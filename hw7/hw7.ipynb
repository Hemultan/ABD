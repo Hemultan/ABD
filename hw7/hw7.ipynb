{
 "cells": [
  {
   "cell_type": "code",
   "execution_count": 1,
   "id": "ae6c1e7f",
   "metadata": {},
   "outputs": [],
   "source": [
    "import pyspark\n",
    "import findspark\n",
    "import pandas as pd\n",
    "import matplotlib.pyplot as plt\n",
    "findspark.init()\n",
    "from pyspark.sql import SparkSession\n",
    "spark = SparkSession.builder.master(\"local[*]\").getOrCreate()\n",
    "sc = spark.sparkContext\n",
    "from pyspark.ml.feature import StringIndexer, OneHotEncoder\n",
    "from pyspark.ml.linalg import Vectors\n",
    "from pyspark.ml.feature import VectorAssembler\n",
    "from pyspark.ml import Pipeline\n",
    "from pyspark.ml.classification import LogisticRegression\n",
    "from pyspark.ml.evaluation import MulticlassClassificationEvaluator"
   ]
  },
  {
   "cell_type": "markdown",
   "id": "8be17f10",
   "metadata": {},
   "source": [
    "# Обучите модель классификации для цветков Iris."
   ]
  },
  {
   "cell_type": "code",
   "execution_count": 2,
   "id": "2f0a04fb",
   "metadata": {},
   "outputs": [
    {
     "name": "stdout",
     "output_type": "stream",
     "text": [
      "+------------+-----------+------------+-----------+-------+-----------+\n",
      "|sepal_length|sepal_width|petal_length|petal_width|variety|variety_num|\n",
      "+------------+-----------+------------+-----------+-------+-----------+\n",
      "|         5.1|        3.5|         1.4|        0.2| Setosa|          0|\n",
      "|         4.9|        3.0|         1.4|        0.2| Setosa|          0|\n",
      "|         4.7|        3.2|         1.3|        0.2| Setosa|          0|\n",
      "|         4.6|        3.1|         1.5|        0.2| Setosa|          0|\n",
      "|         5.0|        3.6|         1.4|        0.2| Setosa|          0|\n",
      "|         5.4|        3.9|         1.7|        0.4| Setosa|          0|\n",
      "|         4.6|        3.4|         1.4|        0.3| Setosa|          0|\n",
      "|         5.0|        3.4|         1.5|        0.2| Setosa|          0|\n",
      "|         4.4|        2.9|         1.4|        0.2| Setosa|          0|\n",
      "|         4.9|        3.1|         1.5|        0.1| Setosa|          0|\n",
      "|         5.4|        3.7|         1.5|        0.2| Setosa|          0|\n",
      "|         4.8|        3.4|         1.6|        0.2| Setosa|          0|\n",
      "|         4.8|        3.0|         1.4|        0.1| Setosa|          0|\n",
      "|         4.3|        3.0|         1.1|        0.1| Setosa|          0|\n",
      "|         5.8|        4.0|         1.2|        0.2| Setosa|          0|\n",
      "|         5.7|        4.4|         1.5|        0.4| Setosa|          0|\n",
      "|         5.4|        3.9|         1.3|        0.4| Setosa|          0|\n",
      "|         5.1|        3.5|         1.4|        0.3| Setosa|          0|\n",
      "|         5.7|        3.8|         1.7|        0.3| Setosa|          0|\n",
      "|         5.1|        3.8|         1.5|        0.3| Setosa|          0|\n",
      "+------------+-----------+------------+-----------+-------+-----------+\n",
      "only showing top 20 rows\n",
      "\n"
     ]
    }
   ],
   "source": [
    "# Взять данные и загрузить в pyspark\n",
    "iris = spark.read.csv('iris.csv', inferSchema=True, header=True)\n",
    "iris.show()"
   ]
  },
  {
   "cell_type": "code",
   "execution_count": 3,
   "id": "e126f92b",
   "metadata": {},
   "outputs": [
    {
     "name": "stdout",
     "output_type": "stream",
     "text": [
      "+------------+-----------+------------+-----------+-------+-----------+----------+-----------------+\n",
      "|sepal_length|sepal_width|petal_length|petal_width|variety|variety_num|varietyInd|         Features|\n",
      "+------------+-----------+------------+-----------+-------+-----------+----------+-----------------+\n",
      "|         5.1|        3.5|         1.4|        0.2| Setosa|          0|       0.0|[5.1,3.5,1.4,0.2]|\n",
      "|         4.9|        3.0|         1.4|        0.2| Setosa|          0|       0.0|[4.9,3.0,1.4,0.2]|\n",
      "|         4.7|        3.2|         1.3|        0.2| Setosa|          0|       0.0|[4.7,3.2,1.3,0.2]|\n",
      "|         4.6|        3.1|         1.5|        0.2| Setosa|          0|       0.0|[4.6,3.1,1.5,0.2]|\n",
      "|         5.0|        3.6|         1.4|        0.2| Setosa|          0|       0.0|[5.0,3.6,1.4,0.2]|\n",
      "|         5.4|        3.9|         1.7|        0.4| Setosa|          0|       0.0|[5.4,3.9,1.7,0.4]|\n",
      "|         4.6|        3.4|         1.4|        0.3| Setosa|          0|       0.0|[4.6,3.4,1.4,0.3]|\n",
      "|         5.0|        3.4|         1.5|        0.2| Setosa|          0|       0.0|[5.0,3.4,1.5,0.2]|\n",
      "|         4.4|        2.9|         1.4|        0.2| Setosa|          0|       0.0|[4.4,2.9,1.4,0.2]|\n",
      "|         4.9|        3.1|         1.5|        0.1| Setosa|          0|       0.0|[4.9,3.1,1.5,0.1]|\n",
      "|         5.4|        3.7|         1.5|        0.2| Setosa|          0|       0.0|[5.4,3.7,1.5,0.2]|\n",
      "|         4.8|        3.4|         1.6|        0.2| Setosa|          0|       0.0|[4.8,3.4,1.6,0.2]|\n",
      "|         4.8|        3.0|         1.4|        0.1| Setosa|          0|       0.0|[4.8,3.0,1.4,0.1]|\n",
      "|         4.3|        3.0|         1.1|        0.1| Setosa|          0|       0.0|[4.3,3.0,1.1,0.1]|\n",
      "|         5.8|        4.0|         1.2|        0.2| Setosa|          0|       0.0|[5.8,4.0,1.2,0.2]|\n",
      "|         5.7|        4.4|         1.5|        0.4| Setosa|          0|       0.0|[5.7,4.4,1.5,0.4]|\n",
      "|         5.4|        3.9|         1.3|        0.4| Setosa|          0|       0.0|[5.4,3.9,1.3,0.4]|\n",
      "|         5.1|        3.5|         1.4|        0.3| Setosa|          0|       0.0|[5.1,3.5,1.4,0.3]|\n",
      "|         5.7|        3.8|         1.7|        0.3| Setosa|          0|       0.0|[5.7,3.8,1.7,0.3]|\n",
      "|         5.1|        3.8|         1.5|        0.3| Setosa|          0|       0.0|[5.1,3.8,1.5,0.3]|\n",
      "+------------+-----------+------------+-----------+-------+-----------+----------+-----------------+\n",
      "only showing top 20 rows\n",
      "\n"
     ]
    }
   ],
   "source": [
    "# При помощи VectorAssembler преобразовать все колонки с признаками в одну (использовать PipeLine - опционально)\n",
    "pipeline = Pipeline(stages =\n",
    "[\n",
    "  StringIndexer(inputCol='variety', outputCol='varietyInd'),\n",
    "  VectorAssembler(inputCols=['sepal_length', 'sepal_width', 'petal_length', 'petal_width'],\\\n",
    "                  outputCol='Features')\n",
    "])\n",
    "\n",
    "pipelineTrained = pipeline.fit(iris)\n",
    "df_features = pipelineTrained.transform(iris)\n",
    "\n",
    "df_features.show()"
   ]
  },
  {
   "cell_type": "code",
   "execution_count": 4,
   "id": "f8a1dd35",
   "metadata": {},
   "outputs": [],
   "source": [
    "# pipeline = Pipeline(stages =\n",
    "# [\n",
    "#   StringIndexer(inputCol='sepal_length', outputCol='slInd'),\n",
    "#     StringIndexer(inputCol='sepal_width', outputCol='swInd'),\n",
    "#     StringIndexer(inputCol='petal_length', outputCol='plInd'),\n",
    "#     StringIndexer(inputCol='petal_width', outputCol='pwInd'),\n",
    "#     StringIndexer(inputCol='variety', outputCol='varietyInd'),\n",
    "#   VectorAssembler(inputCols=['slInd', 'swInd', 'plInd', 'pwInd'],\\\n",
    "#                   outputCol='Features')\n",
    "# ])\n",
    "\n",
    "# pipelineTrained = pipeline.fit(iris)\n",
    "# df_features = pipelineTrained.transform(iris)\n",
    "\n",
    "# df_features.show()"
   ]
  },
  {
   "cell_type": "code",
   "execution_count": 5,
   "id": "b056f76f",
   "metadata": {},
   "outputs": [],
   "source": [
    "# Разбить данные на train и test\n",
    "train, test = df_features.randomSplit([0.8, 0.2], seed=38)"
   ]
  },
  {
   "cell_type": "code",
   "execution_count": 6,
   "id": "85f2cef4",
   "metadata": {},
   "outputs": [],
   "source": [
    "# Создать модель линейной регресии или модель дерева и обучить ее\n",
    "lr = LogisticRegression(featuresCol='Features', labelCol='varietyInd')\n",
    "model = lr.fit(train)\n",
    "\n",
    "train_res = model.transform(train)\n",
    "test_res = model.transform(test)"
   ]
  },
  {
   "cell_type": "code",
   "execution_count": 7,
   "id": "40f92a78",
   "metadata": {},
   "outputs": [
    {
     "data": {
      "text/plain": [
       "1.0"
      ]
     },
     "execution_count": 7,
     "metadata": {},
     "output_type": "execute_result"
    }
   ],
   "source": [
    "# Воспользоваться MulticlassClassificationEvaluator для оценки качества на train и test множестве\n",
    "ev = MulticlassClassificationEvaluator(labelCol='varietyInd')\n",
    "ev.evaluate(train_res)"
   ]
  },
  {
   "cell_type": "code",
   "execution_count": 8,
   "id": "376e7d91",
   "metadata": {},
   "outputs": [
    {
     "data": {
      "text/plain": [
       "0.9375"
      ]
     },
     "execution_count": 8,
     "metadata": {},
     "output_type": "execute_result"
    }
   ],
   "source": [
    "ev.evaluate(test_res)"
   ]
  }
 ],
 "metadata": {
  "kernelspec": {
   "display_name": "Python 3 (ipykernel)",
   "language": "python",
   "name": "python3"
  },
  "language_info": {
   "codemirror_mode": {
    "name": "ipython",
    "version": 3
   },
   "file_extension": ".py",
   "mimetype": "text/x-python",
   "name": "python",
   "nbconvert_exporter": "python",
   "pygments_lexer": "ipython3",
   "version": "3.9.7"
  }
 },
 "nbformat": 4,
 "nbformat_minor": 5
}
