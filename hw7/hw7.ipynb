{
 "cells": [
  {
   "cell_type": "code",
   "execution_count": 1,
   "id": "e5d14620",
   "metadata": {},
   "outputs": [],
   "source": [
    "import pyspark\n",
    "import findspark\n",
    "import pandas as pd\n",
    "import matplotlib.pyplot as plt\n",
    "findspark.init()\n",
    "from pyspark.sql import SparkSession\n",
    "spark = SparkSession.builder.master(\"local[*]\").getOrCreate()\n",
    "sc = spark.sparkContext\n",
    "from pyspark.ml.feature import StringIndexer, OneHotEncoder\n",
    "from pyspark.ml.linalg import Vectors\n",
    "from pyspark.ml.feature import VectorAssembler\n",
    "from pyspark.ml import Pipeline\n",
    "from pyspark.ml.classification import LogisticRegression\n",
    "from pyspark.ml.evaluation import MulticlassClassificationEvaluator"
   ]
  },
  {
   "cell_type": "markdown",
   "id": "29fd79cb",
   "metadata": {},
   "source": [
    "# Обучите модель классификации для цветков Iris."
   ]
  },
  {
   "cell_type": "code",
   "execution_count": 2,
   "id": "1ef6c289",
   "metadata": {},
   "outputs": [
    {
     "name": "stdout",
     "output_type": "stream",
     "text": [
      "+------------+-----------+------------+-----------+-------+-----------+\n",
      "|sepal_length|sepal_width|petal_length|petal_width|variety|variety_num|\n",
      "+------------+-----------+------------+-----------+-------+-----------+\n",
      "|         5.1|        3.5|         1.4|        0.2| Setosa|          0|\n",
      "|         4.9|        3.0|         1.4|        0.2| Setosa|          0|\n",
      "|         4.7|        3.2|         1.3|        0.2| Setosa|          0|\n",
      "|         4.6|        3.1|         1.5|        0.2| Setosa|          0|\n",
      "|         5.0|        3.6|         1.4|        0.2| Setosa|          0|\n",
      "|         5.4|        3.9|         1.7|        0.4| Setosa|          0|\n",
      "|         4.6|        3.4|         1.4|        0.3| Setosa|          0|\n",
      "|         5.0|        3.4|         1.5|        0.2| Setosa|          0|\n",
      "|         4.4|        2.9|         1.4|        0.2| Setosa|          0|\n",
      "|         4.9|        3.1|         1.5|        0.1| Setosa|          0|\n",
      "|         5.4|        3.7|         1.5|        0.2| Setosa|          0|\n",
      "|         4.8|        3.4|         1.6|        0.2| Setosa|          0|\n",
      "|         4.8|        3.0|         1.4|        0.1| Setosa|          0|\n",
      "|         4.3|        3.0|         1.1|        0.1| Setosa|          0|\n",
      "|         5.8|        4.0|         1.2|        0.2| Setosa|          0|\n",
      "|         5.7|        4.4|         1.5|        0.4| Setosa|          0|\n",
      "|         5.4|        3.9|         1.3|        0.4| Setosa|          0|\n",
      "|         5.1|        3.5|         1.4|        0.3| Setosa|          0|\n",
      "|         5.7|        3.8|         1.7|        0.3| Setosa|          0|\n",
      "|         5.1|        3.8|         1.5|        0.3| Setosa|          0|\n",
      "+------------+-----------+------------+-----------+-------+-----------+\n",
      "only showing top 20 rows\n",
      "\n"
     ]
    }
   ],
   "source": [
    "# Взять данные и загрузить в pyspark\n",
    "iris = spark.read.csv('iris.csv', inferSchema=True, header=True)\n",
    "iris.show()"
   ]
  },
  {
   "cell_type": "code",
   "execution_count": 3,
   "id": "bc9ab33d",
   "metadata": {},
   "outputs": [
    {
     "name": "stdout",
     "output_type": "stream",
     "text": [
      "+------------+-----------+------------+-----------+-------+-----------+-----+-----+-----+-----+----------+--------------------+\n",
      "|sepal_length|sepal_width|petal_length|petal_width|variety|variety_num|slInd|swInd|plInd|pwInd|varietyInd|            Features|\n",
      "+------------+-----------+------------+-----------+-------+-----------+-----+-----+-----+-----+----------+--------------------+\n",
      "|         5.1|        3.5|         1.4|        0.2| Setosa|          0|  1.0|  9.0|  0.0|  0.0|       0.0|   [1.0,9.0,0.0,0.0]|\n",
      "|         4.9|        3.0|         1.4|        0.2| Setosa|          0|  8.0|  0.0|  0.0|  0.0|       0.0|       (4,[0],[8.0])|\n",
      "|         4.7|        3.2|         1.3|        0.2| Setosa|          0| 24.0|  2.0|  4.0|  0.0|       0.0|  [24.0,2.0,4.0,0.0]|\n",
      "|         4.6|        3.1|         1.5|        0.2| Setosa|          0| 15.0|  4.0|  1.0|  0.0|       0.0|  [15.0,4.0,1.0,0.0]|\n",
      "|         5.0|        3.6|         1.4|        0.2| Setosa|          0|  0.0| 13.0|  0.0|  0.0|       0.0|      (4,[1],[13.0])|\n",
      "|         5.4|        3.9|         1.7|        0.4| Setosa|          0|  9.0| 17.0| 10.0|  7.0|       0.0| [9.0,17.0,10.0,7.0]|\n",
      "|         4.6|        3.4|         1.4|        0.3| Setosa|          0| 15.0|  3.0|  0.0|  6.0|       0.0|  [15.0,3.0,0.0,6.0]|\n",
      "|         5.0|        3.4|         1.5|        0.2| Setosa|          0|  0.0|  3.0|  1.0|  0.0|       0.0|   [0.0,3.0,1.0,0.0]|\n",
      "|         4.4|        2.9|         1.4|        0.2| Setosa|          0| 20.0|  5.0|  0.0|  0.0|       0.0|  [20.0,5.0,0.0,0.0]|\n",
      "|         4.9|        3.1|         1.5|        0.1| Setosa|          0|  8.0|  4.0|  1.0| 11.0|       0.0|  [8.0,4.0,1.0,11.0]|\n",
      "|         5.4|        3.7|         1.5|        0.2| Setosa|          0|  9.0| 16.0|  1.0|  0.0|       0.0|  [9.0,16.0,1.0,0.0]|\n",
      "|         4.8|        3.4|         1.6|        0.2| Setosa|          0| 13.0|  3.0|  5.0|  0.0|       0.0|  [13.0,3.0,5.0,0.0]|\n",
      "|         4.8|        3.0|         1.4|        0.1| Setosa|          0| 13.0|  0.0|  0.0| 11.0|       0.0| [13.0,0.0,0.0,11.0]|\n",
      "|         4.3|        3.0|         1.1|        0.1| Setosa|          0| 26.0|  0.0| 34.0| 11.0|       0.0|[26.0,0.0,34.0,11.0]|\n",
      "|         5.8|        4.0|         1.2|        0.2| Setosa|          0|  6.0| 19.0| 22.0|  0.0|       0.0| [6.0,19.0,22.0,0.0]|\n",
      "|         5.7|        4.4|         1.5|        0.4| Setosa|          0|  3.0| 22.0|  1.0|  7.0|       0.0|  [3.0,22.0,1.0,7.0]|\n",
      "|         5.4|        3.9|         1.3|        0.4| Setosa|          0|  9.0| 17.0|  4.0|  7.0|       0.0|  [9.0,17.0,4.0,7.0]|\n",
      "|         5.1|        3.5|         1.4|        0.3| Setosa|          0|  1.0|  9.0|  0.0|  6.0|       0.0|   [1.0,9.0,0.0,6.0]|\n",
      "|         5.7|        3.8|         1.7|        0.3| Setosa|          0|  3.0| 10.0| 10.0|  6.0|       0.0| [3.0,10.0,10.0,6.0]|\n",
      "|         5.1|        3.8|         1.5|        0.3| Setosa|          0|  1.0| 10.0|  1.0|  6.0|       0.0|  [1.0,10.0,1.0,6.0]|\n",
      "+------------+-----------+------------+-----------+-------+-----------+-----+-----+-----+-----+----------+--------------------+\n",
      "only showing top 20 rows\n",
      "\n"
     ]
    }
   ],
   "source": [
    "# При помощи VectorAssembler преобразовать все колонки с признаками в одну (использовать PipeLine - опционально)\n",
    "pipeline = Pipeline(stages =\n",
    "[\n",
    "  StringIndexer(inputCol='sepal_length', outputCol='slInd'),\n",
    "    StringIndexer(inputCol='sepal_width', outputCol='swInd'),\n",
    "    StringIndexer(inputCol='petal_length', outputCol='plInd'),\n",
    "    StringIndexer(inputCol='petal_width', outputCol='pwInd'),\n",
    "    StringIndexer(inputCol='variety', outputCol='varietyInd'),\n",
    "  VectorAssembler(inputCols=['slInd', 'swInd', 'plInd', 'pwInd'],\\\n",
    "                  outputCol='Features')\n",
    "])\n",
    "\n",
    "pipelineTrained = pipeline.fit(iris)\n",
    "df_features = pipelineTrained.transform(iris)\n",
    "\n",
    "df_features.show()"
   ]
  },
  {
   "cell_type": "code",
   "execution_count": 4,
   "id": "49a4ce05",
   "metadata": {},
   "outputs": [],
   "source": [
    "# pipeline = Pipeline(stages =\n",
    "# [\n",
    "#   StringIndexer(inputCol='variety', outputCol='varietyInd'),\n",
    "#   OneHotEncoder(inputCol='varietyInd', outputCol = 'varietyOhe'),\n",
    "#   VectorAssembler(inputCols=['sepal_length', 'sepal_width', 'petal_length', 'petal_width', 'varietyOhe'],\\\n",
    "#                   outputCol='Features')\n",
    "# ])\n",
    "\n",
    "# pipelineTrained = pipeline.fit(iris)\n",
    "# df_features = pipelineTrained.transform(iris)\n",
    "\n",
    "# df_features.show()"
   ]
  },
  {
   "cell_type": "code",
   "execution_count": 14,
   "id": "3457ae16",
   "metadata": {},
   "outputs": [],
   "source": [
    "# Разбить данные на train и test\n",
    "train, test = df_features.randomSplit([0.8, 0.2], seed=38)"
   ]
  },
  {
   "cell_type": "code",
   "execution_count": 15,
   "id": "58a39616",
   "metadata": {},
   "outputs": [],
   "source": [
    "# Создать модель линейной регресии или модель дерева и обучить ее\n",
    "lr = LogisticRegression(featuresCol='Features', labelCol='varietyInd')\n",
    "model = lr.fit(train)\n",
    "\n",
    "train_res = model.transform(train)\n",
    "test_res = model.transform(test)"
   ]
  },
  {
   "cell_type": "code",
   "execution_count": 16,
   "id": "1696619a",
   "metadata": {},
   "outputs": [
    {
     "data": {
      "text/plain": [
       "0.6245196735780338"
      ]
     },
     "execution_count": 16,
     "metadata": {},
     "output_type": "execute_result"
    }
   ],
   "source": [
    "# Воспользоваться MulticlassClassificationEvaluator для оценки качества на train и test множестве\n",
    "ev = MulticlassClassificationEvaluator(labelCol='varietyInd')\n",
    "ev.evaluate(train_res)"
   ]
  }
 ],
 "metadata": {
  "kernelspec": {
   "display_name": "Python 3 (ipykernel)",
   "language": "python",
   "name": "python3"
  },
  "language_info": {
   "codemirror_mode": {
    "name": "ipython",
    "version": 3
   },
   "file_extension": ".py",
   "mimetype": "text/x-python",
   "name": "python",
   "nbconvert_exporter": "python",
   "pygments_lexer": "ipython3",
   "version": "3.9.7"
  }
 },
 "nbformat": 4,
 "nbformat_minor": 5
}
