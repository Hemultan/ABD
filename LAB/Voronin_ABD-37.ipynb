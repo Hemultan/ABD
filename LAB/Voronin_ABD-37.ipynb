{
 "cells": [
  {
   "cell_type": "code",
   "execution_count": 1,
   "id": "bc46b3da",
   "metadata": {},
   "outputs": [],
   "source": [
    "import pandas as pd"
   ]
  },
  {
   "cell_type": "markdown",
   "id": "ec7c86b3",
   "metadata": {},
   "source": [
    "## 1. Загрузите в колаб файлы по оценкам (ratings) и фильмам (movies) и создайте на их основе pandas-датафреймы"
   ]
  },
  {
   "cell_type": "code",
   "execution_count": 2,
   "id": "bdc8217f",
   "metadata": {},
   "outputs": [
    {
     "data": {
      "text/html": [
       "<div>\n",
       "<style scoped>\n",
       "    .dataframe tbody tr th:only-of-type {\n",
       "        vertical-align: middle;\n",
       "    }\n",
       "\n",
       "    .dataframe tbody tr th {\n",
       "        vertical-align: top;\n",
       "    }\n",
       "\n",
       "    .dataframe thead th {\n",
       "        text-align: right;\n",
       "    }\n",
       "</style>\n",
       "<table border=\"1\" class=\"dataframe\">\n",
       "  <thead>\n",
       "    <tr style=\"text-align: right;\">\n",
       "      <th></th>\n",
       "      <th>user_id</th>\n",
       "      <th>item_id</th>\n",
       "      <th>rating</th>\n",
       "      <th>timestamp</th>\n",
       "    </tr>\n",
       "  </thead>\n",
       "  <tbody>\n",
       "    <tr>\n",
       "      <th>0</th>\n",
       "      <td>196</td>\n",
       "      <td>242</td>\n",
       "      <td>3</td>\n",
       "      <td>881250949</td>\n",
       "    </tr>\n",
       "    <tr>\n",
       "      <th>1</th>\n",
       "      <td>186</td>\n",
       "      <td>302</td>\n",
       "      <td>3</td>\n",
       "      <td>891717742</td>\n",
       "    </tr>\n",
       "    <tr>\n",
       "      <th>2</th>\n",
       "      <td>22</td>\n",
       "      <td>377</td>\n",
       "      <td>1</td>\n",
       "      <td>878887116</td>\n",
       "    </tr>\n",
       "    <tr>\n",
       "      <th>3</th>\n",
       "      <td>244</td>\n",
       "      <td>51</td>\n",
       "      <td>2</td>\n",
       "      <td>880606923</td>\n",
       "    </tr>\n",
       "    <tr>\n",
       "      <th>4</th>\n",
       "      <td>166</td>\n",
       "      <td>346</td>\n",
       "      <td>1</td>\n",
       "      <td>886397596</td>\n",
       "    </tr>\n",
       "  </tbody>\n",
       "</table>\n",
       "</div>"
      ],
      "text/plain": [
       "   user_id  item_id  rating  timestamp\n",
       "0      196      242       3  881250949\n",
       "1      186      302       3  891717742\n",
       "2       22      377       1  878887116\n",
       "3      244       51       2  880606923\n",
       "4      166      346       1  886397596"
      ]
     },
     "execution_count": 2,
     "metadata": {},
     "output_type": "execute_result"
    }
   ],
   "source": [
    "# Загружаем данные по рейтингам\n",
    "ratings = pd.read_csv('u.data.csv', sep='\\t', names=['user_id','item_id','rating','timestamp'])\n",
    "\n",
    "ratings.head()"
   ]
  },
  {
   "cell_type": "code",
   "execution_count": 3,
   "id": "ed3960b5",
   "metadata": {
    "scrolled": true
   },
   "outputs": [
    {
     "data": {
      "text/html": [
       "<div>\n",
       "<style scoped>\n",
       "    .dataframe tbody tr th:only-of-type {\n",
       "        vertical-align: middle;\n",
       "    }\n",
       "\n",
       "    .dataframe tbody tr th {\n",
       "        vertical-align: top;\n",
       "    }\n",
       "\n",
       "    .dataframe thead th {\n",
       "        text-align: right;\n",
       "    }\n",
       "</style>\n",
       "<table border=\"1\" class=\"dataframe\">\n",
       "  <thead>\n",
       "    <tr style=\"text-align: right;\">\n",
       "      <th></th>\n",
       "      <th>movie_id</th>\n",
       "      <th>movie_title</th>\n",
       "      <th>release_date</th>\n",
       "      <th>video_release_date</th>\n",
       "      <th>IMDb_URL</th>\n",
       "      <th>unknown</th>\n",
       "      <th>Action</th>\n",
       "      <th>Adventure</th>\n",
       "      <th>Animation</th>\n",
       "      <th>Children's</th>\n",
       "      <th>...</th>\n",
       "      <th>Fantasy</th>\n",
       "      <th>Film-Noir</th>\n",
       "      <th>Horror</th>\n",
       "      <th>Musical</th>\n",
       "      <th>Mystery</th>\n",
       "      <th>Romance</th>\n",
       "      <th>Sci-Fi</th>\n",
       "      <th>Thriller</th>\n",
       "      <th>War</th>\n",
       "      <th>Western</th>\n",
       "    </tr>\n",
       "  </thead>\n",
       "  <tbody>\n",
       "    <tr>\n",
       "      <th>0</th>\n",
       "      <td>1</td>\n",
       "      <td>Toy Story (1995)</td>\n",
       "      <td>01-Jan-1995</td>\n",
       "      <td>NaN</td>\n",
       "      <td>http://us.imdb.com/M/title-exact?Toy%20Story%2...</td>\n",
       "      <td>0</td>\n",
       "      <td>0</td>\n",
       "      <td>0</td>\n",
       "      <td>1</td>\n",
       "      <td>1</td>\n",
       "      <td>...</td>\n",
       "      <td>0</td>\n",
       "      <td>0</td>\n",
       "      <td>0</td>\n",
       "      <td>0</td>\n",
       "      <td>0</td>\n",
       "      <td>0</td>\n",
       "      <td>0</td>\n",
       "      <td>0</td>\n",
       "      <td>0</td>\n",
       "      <td>0</td>\n",
       "    </tr>\n",
       "    <tr>\n",
       "      <th>1</th>\n",
       "      <td>2</td>\n",
       "      <td>GoldenEye (1995)</td>\n",
       "      <td>01-Jan-1995</td>\n",
       "      <td>NaN</td>\n",
       "      <td>http://us.imdb.com/M/title-exact?GoldenEye%20(...</td>\n",
       "      <td>0</td>\n",
       "      <td>1</td>\n",
       "      <td>1</td>\n",
       "      <td>0</td>\n",
       "      <td>0</td>\n",
       "      <td>...</td>\n",
       "      <td>0</td>\n",
       "      <td>0</td>\n",
       "      <td>0</td>\n",
       "      <td>0</td>\n",
       "      <td>0</td>\n",
       "      <td>0</td>\n",
       "      <td>0</td>\n",
       "      <td>1</td>\n",
       "      <td>0</td>\n",
       "      <td>0</td>\n",
       "    </tr>\n",
       "    <tr>\n",
       "      <th>2</th>\n",
       "      <td>3</td>\n",
       "      <td>Four Rooms (1995)</td>\n",
       "      <td>01-Jan-1995</td>\n",
       "      <td>NaN</td>\n",
       "      <td>http://us.imdb.com/M/title-exact?Four%20Rooms%...</td>\n",
       "      <td>0</td>\n",
       "      <td>0</td>\n",
       "      <td>0</td>\n",
       "      <td>0</td>\n",
       "      <td>0</td>\n",
       "      <td>...</td>\n",
       "      <td>0</td>\n",
       "      <td>0</td>\n",
       "      <td>0</td>\n",
       "      <td>0</td>\n",
       "      <td>0</td>\n",
       "      <td>0</td>\n",
       "      <td>0</td>\n",
       "      <td>1</td>\n",
       "      <td>0</td>\n",
       "      <td>0</td>\n",
       "    </tr>\n",
       "    <tr>\n",
       "      <th>3</th>\n",
       "      <td>4</td>\n",
       "      <td>Get Shorty (1995)</td>\n",
       "      <td>01-Jan-1995</td>\n",
       "      <td>NaN</td>\n",
       "      <td>http://us.imdb.com/M/title-exact?Get%20Shorty%...</td>\n",
       "      <td>0</td>\n",
       "      <td>1</td>\n",
       "      <td>0</td>\n",
       "      <td>0</td>\n",
       "      <td>0</td>\n",
       "      <td>...</td>\n",
       "      <td>0</td>\n",
       "      <td>0</td>\n",
       "      <td>0</td>\n",
       "      <td>0</td>\n",
       "      <td>0</td>\n",
       "      <td>0</td>\n",
       "      <td>0</td>\n",
       "      <td>0</td>\n",
       "      <td>0</td>\n",
       "      <td>0</td>\n",
       "    </tr>\n",
       "    <tr>\n",
       "      <th>4</th>\n",
       "      <td>5</td>\n",
       "      <td>Copycat (1995)</td>\n",
       "      <td>01-Jan-1995</td>\n",
       "      <td>NaN</td>\n",
       "      <td>http://us.imdb.com/M/title-exact?Copycat%20(1995)</td>\n",
       "      <td>0</td>\n",
       "      <td>0</td>\n",
       "      <td>0</td>\n",
       "      <td>0</td>\n",
       "      <td>0</td>\n",
       "      <td>...</td>\n",
       "      <td>0</td>\n",
       "      <td>0</td>\n",
       "      <td>0</td>\n",
       "      <td>0</td>\n",
       "      <td>0</td>\n",
       "      <td>0</td>\n",
       "      <td>0</td>\n",
       "      <td>1</td>\n",
       "      <td>0</td>\n",
       "      <td>0</td>\n",
       "    </tr>\n",
       "  </tbody>\n",
       "</table>\n",
       "<p>5 rows × 24 columns</p>\n",
       "</div>"
      ],
      "text/plain": [
       "   movie_id        movie_title release_date  video_release_date  \\\n",
       "0         1   Toy Story (1995)  01-Jan-1995                 NaN   \n",
       "1         2   GoldenEye (1995)  01-Jan-1995                 NaN   \n",
       "2         3  Four Rooms (1995)  01-Jan-1995                 NaN   \n",
       "3         4  Get Shorty (1995)  01-Jan-1995                 NaN   \n",
       "4         5     Copycat (1995)  01-Jan-1995                 NaN   \n",
       "\n",
       "                                            IMDb_URL  unknown  Action  \\\n",
       "0  http://us.imdb.com/M/title-exact?Toy%20Story%2...        0       0   \n",
       "1  http://us.imdb.com/M/title-exact?GoldenEye%20(...        0       1   \n",
       "2  http://us.imdb.com/M/title-exact?Four%20Rooms%...        0       0   \n",
       "3  http://us.imdb.com/M/title-exact?Get%20Shorty%...        0       1   \n",
       "4  http://us.imdb.com/M/title-exact?Copycat%20(1995)        0       0   \n",
       "\n",
       "   Adventure  Animation  Children's  ...  Fantasy  Film-Noir  Horror  Musical  \\\n",
       "0          0          1           1  ...        0          0       0        0   \n",
       "1          1          0           0  ...        0          0       0        0   \n",
       "2          0          0           0  ...        0          0       0        0   \n",
       "3          0          0           0  ...        0          0       0        0   \n",
       "4          0          0           0  ...        0          0       0        0   \n",
       "\n",
       "   Mystery  Romance  Sci-Fi  Thriller  War  Western  \n",
       "0        0        0       0         0    0        0  \n",
       "1        0        0       0         1    0        0  \n",
       "2        0        0       0         1    0        0  \n",
       "3        0        0       0         0    0        0  \n",
       "4        0        0       0         1    0        0  \n",
       "\n",
       "[5 rows x 24 columns]"
      ]
     },
     "execution_count": 3,
     "metadata": {},
     "output_type": "execute_result"
    }
   ],
   "source": [
    "# Загружаем данные по фильмам\n",
    "movies = pd.read_csv('u.item.csv', sep='|', \\\n",
    "                     names=[\"movie_id\", \"movie_title\", \"release_date\", \"video_release_date\", \"IMDb_URL\", \"unknown\", \\\n",
    "                            \"Action\", \"Adventure\", \"Animation\", \"Children's\", \"Comedy\", \"Crime\", \"Documentary\", \"Drama\", \\\n",
    "                            \"Fantasy\", \"Film-Noir\", \"Horror\", \"Musical\", \"Mystery\", \"Romance\", \"Sci-Fi\", \"Thriller\", \\\n",
    "                            \"War\", \"Western\"], encoding='latin-1')\n",
    "\n",
    "movies.head()"
   ]
  },
  {
   "cell_type": "markdown",
   "id": "91c2d0db",
   "metadata": {},
   "source": [
    "## 2. Средствами Pandas, используя dataframe ratings, найдите id пользователя, поставившего больше всего оценок"
   ]
  },
  {
   "cell_type": "code",
   "execution_count": 4,
   "id": "ebf622ac",
   "metadata": {},
   "outputs": [
    {
     "name": "stdout",
     "output_type": "stream",
     "text": [
      "Id пользователя поставившего больше всего оценок: 405\n"
     ]
    }
   ],
   "source": [
    "# При помощи группировки по user_id, считаем общее количество вхождений, сортируем по убыванию и выводим первый элемент.\n",
    "top_rater = ratings.groupby('user_id')['user_id'].count().sort_values(ascending=False).index[0]\n",
    "print(f'Id пользователя поставившего больше всего оценок: {top_rater}')"
   ]
  },
  {
   "cell_type": "markdown",
   "id": "a0b50115",
   "metadata": {},
   "source": [
    "## 3. Оставьте в датафрейме ratings только те фильмы, который оценил данный пользователь"
   ]
  },
  {
   "cell_type": "code",
   "execution_count": 5,
   "id": "eb4d3d51",
   "metadata": {
    "scrolled": true
   },
   "outputs": [
    {
     "data": {
      "text/html": [
       "<div>\n",
       "<style scoped>\n",
       "    .dataframe tbody tr th:only-of-type {\n",
       "        vertical-align: middle;\n",
       "    }\n",
       "\n",
       "    .dataframe tbody tr th {\n",
       "        vertical-align: top;\n",
       "    }\n",
       "\n",
       "    .dataframe thead th {\n",
       "        text-align: right;\n",
       "    }\n",
       "</style>\n",
       "<table border=\"1\" class=\"dataframe\">\n",
       "  <thead>\n",
       "    <tr style=\"text-align: right;\">\n",
       "      <th></th>\n",
       "      <th>user_id</th>\n",
       "      <th>item_id</th>\n",
       "      <th>rating</th>\n",
       "      <th>timestamp</th>\n",
       "    </tr>\n",
       "  </thead>\n",
       "  <tbody>\n",
       "    <tr>\n",
       "      <th>12276</th>\n",
       "      <td>405</td>\n",
       "      <td>56</td>\n",
       "      <td>4</td>\n",
       "      <td>885544911</td>\n",
       "    </tr>\n",
       "    <tr>\n",
       "      <th>12383</th>\n",
       "      <td>405</td>\n",
       "      <td>592</td>\n",
       "      <td>1</td>\n",
       "      <td>885548670</td>\n",
       "    </tr>\n",
       "    <tr>\n",
       "      <th>12430</th>\n",
       "      <td>405</td>\n",
       "      <td>1582</td>\n",
       "      <td>1</td>\n",
       "      <td>885548670</td>\n",
       "    </tr>\n",
       "    <tr>\n",
       "      <th>12449</th>\n",
       "      <td>405</td>\n",
       "      <td>171</td>\n",
       "      <td>1</td>\n",
       "      <td>885549544</td>\n",
       "    </tr>\n",
       "    <tr>\n",
       "      <th>12460</th>\n",
       "      <td>405</td>\n",
       "      <td>580</td>\n",
       "      <td>1</td>\n",
       "      <td>885547447</td>\n",
       "    </tr>\n",
       "  </tbody>\n",
       "</table>\n",
       "</div>"
      ],
      "text/plain": [
       "       user_id  item_id  rating  timestamp\n",
       "12276      405       56       4  885544911\n",
       "12383      405      592       1  885548670\n",
       "12430      405     1582       1  885548670\n",
       "12449      405      171       1  885549544\n",
       "12460      405      580       1  885547447"
      ]
     },
     "execution_count": 5,
     "metadata": {},
     "output_type": "execute_result"
    }
   ],
   "source": [
    "# Создаем датафрейм, имеющий сведения только по нашему пользователю. Применяем простой фильтр, \n",
    "# сравнивая занчения колонки с искомым\n",
    "user_405 = ratings[ratings['user_id'] == top_rater]\n",
    "user_405.head()"
   ]
  },
  {
   "cell_type": "markdown",
   "id": "dd7efa20",
   "metadata": {},
   "source": [
    "## 4. Добавьте к датафрейму из задания 3 столбцы:\n",
    "По жанрам. Каждый столбец - это жанр. Единицу записываем, если фильм принадлежит данному жанру и 0 - если нет\n"
   ]
  },
  {
   "cell_type": "code",
   "execution_count": 6,
   "id": "53c9873e",
   "metadata": {},
   "outputs": [],
   "source": [
    "# Удаляем из датасета фильмов данные (по колонкам), которые нам точно не нужны\n",
    "movies.drop(['movie_title', 'video_release_date', 'IMDb_URL'], axis=1, inplace=True)"
   ]
  },
  {
   "cell_type": "code",
   "execution_count": 7,
   "id": "2dbbd4cb",
   "metadata": {},
   "outputs": [
    {
     "data": {
      "text/html": [
       "<div>\n",
       "<style scoped>\n",
       "    .dataframe tbody tr th:only-of-type {\n",
       "        vertical-align: middle;\n",
       "    }\n",
       "\n",
       "    .dataframe tbody tr th {\n",
       "        vertical-align: top;\n",
       "    }\n",
       "\n",
       "    .dataframe thead th {\n",
       "        text-align: right;\n",
       "    }\n",
       "</style>\n",
       "<table border=\"1\" class=\"dataframe\">\n",
       "  <thead>\n",
       "    <tr style=\"text-align: right;\">\n",
       "      <th></th>\n",
       "      <th>user_id</th>\n",
       "      <th>item_id</th>\n",
       "      <th>rating</th>\n",
       "      <th>timestamp</th>\n",
       "      <th>movie_id</th>\n",
       "      <th>release_year</th>\n",
       "      <th>unknown</th>\n",
       "      <th>Action</th>\n",
       "      <th>Adventure</th>\n",
       "      <th>Animation</th>\n",
       "      <th>...</th>\n",
       "      <th>Fantasy</th>\n",
       "      <th>Film-Noir</th>\n",
       "      <th>Horror</th>\n",
       "      <th>Musical</th>\n",
       "      <th>Mystery</th>\n",
       "      <th>Romance</th>\n",
       "      <th>Sci-Fi</th>\n",
       "      <th>Thriller</th>\n",
       "      <th>War</th>\n",
       "      <th>Western</th>\n",
       "    </tr>\n",
       "  </thead>\n",
       "  <tbody>\n",
       "    <tr>\n",
       "      <th>0</th>\n",
       "      <td>405</td>\n",
       "      <td>56</td>\n",
       "      <td>4</td>\n",
       "      <td>885544911</td>\n",
       "      <td>56</td>\n",
       "      <td>1994</td>\n",
       "      <td>0</td>\n",
       "      <td>0</td>\n",
       "      <td>0</td>\n",
       "      <td>0</td>\n",
       "      <td>...</td>\n",
       "      <td>0</td>\n",
       "      <td>0</td>\n",
       "      <td>0</td>\n",
       "      <td>0</td>\n",
       "      <td>0</td>\n",
       "      <td>0</td>\n",
       "      <td>0</td>\n",
       "      <td>0</td>\n",
       "      <td>0</td>\n",
       "      <td>0</td>\n",
       "    </tr>\n",
       "    <tr>\n",
       "      <th>1</th>\n",
       "      <td>405</td>\n",
       "      <td>592</td>\n",
       "      <td>1</td>\n",
       "      <td>885548670</td>\n",
       "      <td>592</td>\n",
       "      <td>1995</td>\n",
       "      <td>0</td>\n",
       "      <td>0</td>\n",
       "      <td>0</td>\n",
       "      <td>0</td>\n",
       "      <td>...</td>\n",
       "      <td>0</td>\n",
       "      <td>0</td>\n",
       "      <td>0</td>\n",
       "      <td>0</td>\n",
       "      <td>1</td>\n",
       "      <td>0</td>\n",
       "      <td>0</td>\n",
       "      <td>1</td>\n",
       "      <td>0</td>\n",
       "      <td>0</td>\n",
       "    </tr>\n",
       "    <tr>\n",
       "      <th>2</th>\n",
       "      <td>405</td>\n",
       "      <td>1582</td>\n",
       "      <td>1</td>\n",
       "      <td>885548670</td>\n",
       "      <td>1582</td>\n",
       "      <td>1947</td>\n",
       "      <td>0</td>\n",
       "      <td>0</td>\n",
       "      <td>0</td>\n",
       "      <td>0</td>\n",
       "      <td>...</td>\n",
       "      <td>0</td>\n",
       "      <td>1</td>\n",
       "      <td>0</td>\n",
       "      <td>0</td>\n",
       "      <td>0</td>\n",
       "      <td>0</td>\n",
       "      <td>0</td>\n",
       "      <td>0</td>\n",
       "      <td>0</td>\n",
       "      <td>0</td>\n",
       "    </tr>\n",
       "    <tr>\n",
       "      <th>3</th>\n",
       "      <td>405</td>\n",
       "      <td>171</td>\n",
       "      <td>1</td>\n",
       "      <td>885549544</td>\n",
       "      <td>171</td>\n",
       "      <td>1991</td>\n",
       "      <td>0</td>\n",
       "      <td>0</td>\n",
       "      <td>0</td>\n",
       "      <td>0</td>\n",
       "      <td>...</td>\n",
       "      <td>0</td>\n",
       "      <td>0</td>\n",
       "      <td>0</td>\n",
       "      <td>0</td>\n",
       "      <td>0</td>\n",
       "      <td>0</td>\n",
       "      <td>1</td>\n",
       "      <td>0</td>\n",
       "      <td>0</td>\n",
       "      <td>0</td>\n",
       "    </tr>\n",
       "    <tr>\n",
       "      <th>4</th>\n",
       "      <td>405</td>\n",
       "      <td>580</td>\n",
       "      <td>1</td>\n",
       "      <td>885547447</td>\n",
       "      <td>580</td>\n",
       "      <td>1995</td>\n",
       "      <td>0</td>\n",
       "      <td>0</td>\n",
       "      <td>0</td>\n",
       "      <td>0</td>\n",
       "      <td>...</td>\n",
       "      <td>0</td>\n",
       "      <td>0</td>\n",
       "      <td>0</td>\n",
       "      <td>0</td>\n",
       "      <td>0</td>\n",
       "      <td>1</td>\n",
       "      <td>0</td>\n",
       "      <td>0</td>\n",
       "      <td>0</td>\n",
       "      <td>0</td>\n",
       "    </tr>\n",
       "  </tbody>\n",
       "</table>\n",
       "<p>5 rows × 25 columns</p>\n",
       "</div>"
      ],
      "text/plain": [
       "   user_id  item_id  rating  timestamp  movie_id release_year  unknown  \\\n",
       "0      405       56       4  885544911        56         1994        0   \n",
       "1      405      592       1  885548670       592         1995        0   \n",
       "2      405     1582       1  885548670      1582         1947        0   \n",
       "3      405      171       1  885549544       171         1991        0   \n",
       "4      405      580       1  885547447       580         1995        0   \n",
       "\n",
       "   Action  Adventure  Animation  ...  Fantasy  Film-Noir  Horror  Musical  \\\n",
       "0       0          0          0  ...        0          0       0        0   \n",
       "1       0          0          0  ...        0          0       0        0   \n",
       "2       0          0          0  ...        0          1       0        0   \n",
       "3       0          0          0  ...        0          0       0        0   \n",
       "4       0          0          0  ...        0          0       0        0   \n",
       "\n",
       "   Mystery  Romance  Sci-Fi  Thriller  War  Western  \n",
       "0        0        0       0         0    0        0  \n",
       "1        1        0       0         1    0        0  \n",
       "2        0        0       0         0    0        0  \n",
       "3        0        0       1         0    0        0  \n",
       "4        0        1       0         0    0        0  \n",
       "\n",
       "[5 rows x 25 columns]"
      ]
     },
     "execution_count": 7,
     "metadata": {},
     "output_type": "execute_result"
    }
   ],
   "source": [
    "# Объединяем наши датасеты. Далее чистим дату, оставляя только год. Переименовываем колонку с датой, на год.\n",
    "merged = user_405.merge(movies, how='left', left_on='item_id', right_on='movie_id')\n",
    "merged['release_date'] = merged['release_date'].apply(lambda x: x.split('-')[-1])\n",
    "merged.rename(columns={'release_date':'release_year'}, inplace=True)\n",
    "merged.head()"
   ]
  },
  {
   "cell_type": "markdown",
   "id": "cc99b6dd",
   "metadata": {},
   "source": [
    "Cтолбцы с общим количеством оценок от всех пользователей на фильм и суммарной оценкой от всех пользователей"
   ]
  },
  {
   "cell_type": "code",
   "execution_count": 8,
   "id": "740c632c",
   "metadata": {},
   "outputs": [
    {
     "data": {
      "text/html": [
       "<div>\n",
       "<style scoped>\n",
       "    .dataframe tbody tr th:only-of-type {\n",
       "        vertical-align: middle;\n",
       "    }\n",
       "\n",
       "    .dataframe tbody tr th {\n",
       "        vertical-align: top;\n",
       "    }\n",
       "\n",
       "    .dataframe thead th {\n",
       "        text-align: right;\n",
       "    }\n",
       "</style>\n",
       "<table border=\"1\" class=\"dataframe\">\n",
       "  <thead>\n",
       "    <tr style=\"text-align: right;\">\n",
       "      <th></th>\n",
       "      <th>item_id</th>\n",
       "      <th>rates_count</th>\n",
       "      <th>rates_sum</th>\n",
       "    </tr>\n",
       "  </thead>\n",
       "  <tbody>\n",
       "    <tr>\n",
       "      <th>0</th>\n",
       "      <td>1</td>\n",
       "      <td>452</td>\n",
       "      <td>1753</td>\n",
       "    </tr>\n",
       "    <tr>\n",
       "      <th>1</th>\n",
       "      <td>2</td>\n",
       "      <td>131</td>\n",
       "      <td>420</td>\n",
       "    </tr>\n",
       "    <tr>\n",
       "      <th>2</th>\n",
       "      <td>3</td>\n",
       "      <td>90</td>\n",
       "      <td>273</td>\n",
       "    </tr>\n",
       "    <tr>\n",
       "      <th>3</th>\n",
       "      <td>4</td>\n",
       "      <td>209</td>\n",
       "      <td>742</td>\n",
       "    </tr>\n",
       "    <tr>\n",
       "      <th>4</th>\n",
       "      <td>5</td>\n",
       "      <td>86</td>\n",
       "      <td>284</td>\n",
       "    </tr>\n",
       "  </tbody>\n",
       "</table>\n",
       "</div>"
      ],
      "text/plain": [
       "   item_id  rates_count  rates_sum\n",
       "0        1          452       1753\n",
       "1        2          131        420\n",
       "2        3           90        273\n",
       "3        4          209        742\n",
       "4        5           86        284"
      ]
     },
     "execution_count": 8,
     "metadata": {},
     "output_type": "execute_result"
    }
   ],
   "source": [
    "# Создаем 2 вспомогательных датафрейма - с общим количеством оценок и их суммой. Переименовываем рейтинг в целевые значения.\n",
    "# Объединяем датафреймы.\n",
    "total_rates_count = ratings.groupby('item_id')['rating'].count().reset_index()\n",
    "total_rates_count.rename(columns={'rating':'rates_count'}, inplace=True)\n",
    "\n",
    "total_rates = ratings.groupby('item_id')['rating'].sum().reset_index()\n",
    "total_rates.rename(columns={'rating':'rates_sum'}, inplace=True)\n",
    "\n",
    "count_sum_rates = total_rates_count.merge(total_rates, how='left')\n",
    "count_sum_rates.head()"
   ]
  },
  {
   "cell_type": "code",
   "execution_count": 9,
   "id": "03928789",
   "metadata": {
    "scrolled": true
   },
   "outputs": [
    {
     "name": "stdout",
     "output_type": "stream",
     "text": [
      "<class 'pandas.core.frame.DataFrame'>\n",
      "Int64Index: 737 entries, 0 to 736\n",
      "Data columns (total 23 columns):\n",
      " #   Column        Non-Null Count  Dtype \n",
      "---  ------        --------------  ----- \n",
      " 0   rating        737 non-null    int64 \n",
      " 1   release_year  737 non-null    object\n",
      " 2   unknown       737 non-null    int64 \n",
      " 3   Action        737 non-null    int64 \n",
      " 4   Adventure     737 non-null    int64 \n",
      " 5   Animation     737 non-null    int64 \n",
      " 6   Children's    737 non-null    int64 \n",
      " 7   Comedy        737 non-null    int64 \n",
      " 8   Crime         737 non-null    int64 \n",
      " 9   Documentary   737 non-null    int64 \n",
      " 10  Drama         737 non-null    int64 \n",
      " 11  Fantasy       737 non-null    int64 \n",
      " 12  Film-Noir     737 non-null    int64 \n",
      " 13  Horror        737 non-null    int64 \n",
      " 14  Musical       737 non-null    int64 \n",
      " 15  Mystery       737 non-null    int64 \n",
      " 16  Romance       737 non-null    int64 \n",
      " 17  Sci-Fi        737 non-null    int64 \n",
      " 18  Thriller      737 non-null    int64 \n",
      " 19  War           737 non-null    int64 \n",
      " 20  Western       737 non-null    int64 \n",
      " 21  rates_count   737 non-null    int64 \n",
      " 22  rates_sum     737 non-null    int64 \n",
      "dtypes: int64(22), object(1)\n",
      "memory usage: 138.2+ KB\n"
     ]
    }
   ],
   "source": [
    "# Объединяем вспомогательный датафрейм с рейтингами с нашим предобработанным. Читсим ненудные данные. \n",
    "# Смотрим, все ли типы данных в порядке.\n",
    "total_df = merged.merge(count_sum_rates, how='left')\n",
    "total_df.drop(['user_id', 'item_id', 'timestamp', 'movie_id'], axis=1, inplace=True)\n",
    "total_df.info()"
   ]
  },
  {
   "cell_type": "code",
   "execution_count": 10,
   "id": "1d962db7",
   "metadata": {},
   "outputs": [
    {
     "name": "stdout",
     "output_type": "stream",
     "text": [
      "<class 'pandas.core.frame.DataFrame'>\n",
      "Int64Index: 737 entries, 0 to 736\n",
      "Data columns (total 23 columns):\n",
      " #   Column        Non-Null Count  Dtype\n",
      "---  ------        --------------  -----\n",
      " 0   rating        737 non-null    int32\n",
      " 1   release_year  737 non-null    int32\n",
      " 2   unknown       737 non-null    int32\n",
      " 3   Action        737 non-null    int32\n",
      " 4   Adventure     737 non-null    int32\n",
      " 5   Animation     737 non-null    int32\n",
      " 6   Children's    737 non-null    int32\n",
      " 7   Comedy        737 non-null    int32\n",
      " 8   Crime         737 non-null    int32\n",
      " 9   Documentary   737 non-null    int32\n",
      " 10  Drama         737 non-null    int32\n",
      " 11  Fantasy       737 non-null    int32\n",
      " 12  Film-Noir     737 non-null    int32\n",
      " 13  Horror        737 non-null    int32\n",
      " 14  Musical       737 non-null    int32\n",
      " 15  Mystery       737 non-null    int32\n",
      " 16  Romance       737 non-null    int32\n",
      " 17  Sci-Fi        737 non-null    int32\n",
      " 18  Thriller      737 non-null    int32\n",
      " 19  War           737 non-null    int32\n",
      " 20  Western       737 non-null    int32\n",
      " 21  rates_count   737 non-null    int32\n",
      " 22  rates_sum     737 non-null    int32\n",
      "dtypes: int32(23)\n",
      "memory usage: 72.0 KB\n"
     ]
    }
   ],
   "source": [
    "# Приводим все типы к int32, большИх значений нет и все целочисленные. 32 резервирует меньше памяти.\n",
    "total_df = total_df.astype(int)\n",
    "total_df.info()"
   ]
  },
  {
   "cell_type": "markdown",
   "id": "dd196a04",
   "metadata": {},
   "source": [
    "## 5. Сформируйте X_train, X_test, y_train, y_test\n",
    "\n"
   ]
  },
  {
   "cell_type": "code",
   "execution_count": 11,
   "id": "3324467a",
   "metadata": {},
   "outputs": [],
   "source": [
    "# Подключаем библиотеки.\n",
    "from sklearn.model_selection import train_test_split"
   ]
  },
  {
   "cell_type": "code",
   "execution_count": 12,
   "id": "216b0d91",
   "metadata": {},
   "outputs": [
    {
     "data": {
      "text/plain": [
       "Index(['rating', 'release_year', 'unknown', 'Action', 'Adventure', 'Animation',\n",
       "       'Children's', 'Comedy', 'Crime', 'Documentary', 'Drama', 'Fantasy',\n",
       "       'Film-Noir', 'Horror', 'Musical', 'Mystery', 'Romance', 'Sci-Fi',\n",
       "       'Thriller', 'War', 'Western', 'rates_count', 'rates_sum'],\n",
       "      dtype='object')"
      ]
     },
     "execution_count": 12,
     "metadata": {},
     "output_type": "execute_result"
    }
   ],
   "source": [
    "# Для удобства выводим все имеющиеся колонки в датафрейме\n",
    "total_df.columns"
   ]
  },
  {
   "cell_type": "code",
   "execution_count": 13,
   "id": "ca8c02fa",
   "metadata": {},
   "outputs": [],
   "source": [
    "# Объявляем признаки и \"искомое\"\n",
    "X = total_df[[\"release_year\", \"unknown\", \"Action\", \"Adventure\", \"Animation\",\n",
    "       \"Children's\", \"Comedy\", \"Crime\", \"Documentary\", \"Drama\", \"Fantasy\",\n",
    "       \"Film-Noir\", \"Horror\", \"Musical\", \"Mystery\", \"Romance\", \"Sci-Fi\",\n",
    "       \"Thriller\", \"War\", \"Western\", \"rates_count\", \"rates_sum\"]]\n",
    "y = total_df['rating']"
   ]
  },
  {
   "cell_type": "code",
   "execution_count": 14,
   "id": "8997ed4c",
   "metadata": {},
   "outputs": [],
   "source": [
    "# Формируем X_train, X_test, y_train, y_test\n",
    "X_train, X_test, y_train, y_test = train_test_split(X, y, test_size=0.2, random_state = 38)"
   ]
  },
  {
   "cell_type": "markdown",
   "id": "89362ae5",
   "metadata": {},
   "source": [
    "## 6. Возьмите модель линейной регрессии (или любую другую для задачи регрессии)  и обучите ее на фильмах\n"
   ]
  },
  {
   "cell_type": "code",
   "execution_count": 15,
   "id": "9449bbae",
   "metadata": {},
   "outputs": [],
   "source": [
    "# Подключаем библиотеки.\n",
    "from sklearn.linear_model import LinearRegression"
   ]
  },
  {
   "cell_type": "code",
   "execution_count": 16,
   "id": "ee79c62e",
   "metadata": {},
   "outputs": [],
   "source": [
    "model = LinearRegression()\n",
    "model.fit(X_train, y_train)\n",
    "y_pred = model.predict(X_test)"
   ]
  },
  {
   "cell_type": "markdown",
   "id": "b559c444",
   "metadata": {},
   "source": [
    "## 7. Оцените качество модели на X_test, y_test при помощи метрик для задачи регрессии"
   ]
  },
  {
   "cell_type": "code",
   "execution_count": 17,
   "id": "e5dba765",
   "metadata": {},
   "outputs": [
    {
     "data": {
      "text/plain": [
       "'\\nКак точно интерпретировать значение я не знаю, но чем ближе к 0, тем выше точность модели. \\nУ нас явно не очень хороший показатель.\\n'"
      ]
     },
     "execution_count": 17,
     "metadata": {},
     "output_type": "execute_result"
    }
   ],
   "source": [
    "# Подключаем библиотеки для оценки среднеквадратичной ошибки и считаем ее.\n",
    "from sklearn.metrics import mean_squared_error\n",
    "  \n",
    "mean_squared_error(y_test, y_pred)\n",
    "\n",
    "\"\"\"\n",
    "Как точно интерпретировать значение я не знаю, но чем ближе к 0, тем выше точность модели. \n",
    "У нас явно не очень хороший показатель.\n",
    "\"\"\""
   ]
  },
  {
   "cell_type": "markdown",
   "id": "57b7abd9",
   "metadata": {},
   "source": [
    "## 8. Загрузить данные в spark"
   ]
  },
  {
   "cell_type": "code",
   "execution_count": 18,
   "id": "efb4279f",
   "metadata": {},
   "outputs": [],
   "source": [
    "# Подключаем библиотеки.\n",
    "import pyspark\n",
    "import findspark\n",
    "findspark.init()\n",
    "from pyspark.sql import SparkSession\n",
    "spark = SparkSession.builder.master(\"local[*]\").getOrCreate()\n",
    "sc = spark.sparkContext"
   ]
  },
  {
   "cell_type": "code",
   "execution_count": 19,
   "id": "268216b1",
   "metadata": {},
   "outputs": [
    {
     "name": "stdout",
     "output_type": "stream",
     "text": [
      "+-------+-------+------+---------+\n",
      "|user_id|item_id|rating|timestamp|\n",
      "+-------+-------+------+---------+\n",
      "|    196|    242|     3|881250949|\n",
      "|    186|    302|     3|891717742|\n",
      "|     22|    377|     1|878887116|\n",
      "|    244|     51|     2|880606923|\n",
      "|    166|    346|     1|886397596|\n",
      "+-------+-------+------+---------+\n",
      "only showing top 5 rows\n",
      "\n"
     ]
    }
   ],
   "source": [
    "# Загружаем данные по рейтингам\n",
    "ratings_spark = spark.read.csv('u.data.csv', sep='\\t', inferSchema=True)\n",
    "ratings_spark = ratings_spark.withColumnRenamed('_c0', 'user_id')\\\n",
    "            .withColumnRenamed('_c1', 'item_id')\\\n",
    "            .withColumnRenamed('_c2', 'rating')\\\n",
    "            .withColumnRenamed('_c3', 'timestamp')\n",
    "\n",
    "ratings_spark.show(5)"
   ]
  },
  {
   "cell_type": "code",
   "execution_count": 75,
   "id": "8daf1e4e",
   "metadata": {},
   "outputs": [
    {
     "name": "stdout",
     "output_type": "stream",
     "text": [
      "+---+-----------------+-----------+----+--------------------+---+---+---+---+---+----+----+----+----+----+----+----+----+----+----+----+----+----+----+\n",
      "|_c0|              _c1|        _c2| _c3|                 _c4|_c5|_c6|_c7|_c8|_c9|_c10|_c11|_c12|_c13|_c14|_c15|_c16|_c17|_c18|_c19|_c20|_c21|_c22|_c23|\n",
      "+---+-----------------+-----------+----+--------------------+---+---+---+---+---+----+----+----+----+----+----+----+----+----+----+----+----+----+----+\n",
      "|  1| Toy Story (1995)|01-Jan-1995|NULL|http://us.imdb.co...|  0|  0|  0|  1|  1|   1|   0|   0|   0|   0|   0|   0|   0|   0|   0|   0|   0|   0|   0|\n",
      "|  2| GoldenEye (1995)|01-Jan-1995|NULL|http://us.imdb.co...|  0|  1|  1|  0|  0|   0|   0|   0|   0|   0|   0|   0|   0|   0|   0|   0|   1|   0|   0|\n",
      "|  3|Four Rooms (1995)|01-Jan-1995|NULL|http://us.imdb.co...|  0|  0|  0|  0|  0|   0|   0|   0|   0|   0|   0|   0|   0|   0|   0|   0|   1|   0|   0|\n",
      "|  4|Get Shorty (1995)|01-Jan-1995|NULL|http://us.imdb.co...|  0|  1|  0|  0|  0|   1|   0|   0|   1|   0|   0|   0|   0|   0|   0|   0|   0|   0|   0|\n",
      "|  5|   Copycat (1995)|01-Jan-1995|NULL|http://us.imdb.co...|  0|  0|  0|  0|  0|   0|   1|   0|   1|   0|   0|   0|   0|   0|   0|   0|   1|   0|   0|\n",
      "+---+-----------------+-----------+----+--------------------+---+---+---+---+---+----+----+----+----+----+----+----+----+----+----+----+----+----+----+\n",
      "only showing top 5 rows\n",
      "\n"
     ]
    }
   ],
   "source": [
    "# Загружаем данные по фильмам\n",
    "movies_spark = spark.read.csv('u.item.csv', sep='|', inferSchema=True)\n",
    "movies_spark.show(5)"
   ]
  },
  {
   "cell_type": "markdown",
   "id": "2ad7fa86",
   "metadata": {},
   "source": [
    "## 9. Средствами спарка вывести среднюю оценку для каждого фильма\n",
    "\n"
   ]
  },
  {
   "cell_type": "code",
   "execution_count": 21,
   "id": "c9c3defb",
   "metadata": {},
   "outputs": [
    {
     "name": "stdout",
     "output_type": "stream",
     "text": [
      "+-------+------------------+\n",
      "|item_id|       avg(rating)|\n",
      "+-------+------------------+\n",
      "|    496| 4.121212121212121|\n",
      "|    471|3.6108597285067874|\n",
      "|    463| 3.859154929577465|\n",
      "|    148|          3.203125|\n",
      "|   1342|               2.5|\n",
      "+-------+------------------+\n",
      "only showing top 5 rows\n",
      "\n"
     ]
    }
   ],
   "source": [
    "# Группируем по фильму и применяем функцию среднего по оценкам\n",
    "avg_rate = ratings_spark.groupby('item_id').avg('rating')\n",
    "avg_rate.show(5)"
   ]
  },
  {
   "cell_type": "markdown",
   "id": "589c547d",
   "metadata": {},
   "source": [
    "## 10. Посчитайте средствами спарка среднюю оценку для каждого жанра"
   ]
  },
  {
   "cell_type": "code",
   "execution_count": 76,
   "id": "0945ffd0",
   "metadata": {
    "scrolled": false
   },
   "outputs": [
    {
     "name": "stdout",
     "output_type": "stream",
     "text": [
      "+--------+-----------------+------------+------------------+--------------------+-------+------+---------+---------+---------+------+-----+-----------+-----+-------+---------+------+-------+-------+-------+------+--------+---+-------+\n",
      "|movie_id|      movie_title|release_date|video_release_date|            IMDb_URL|unknown|Action|Adventure|Animation|Childrens|Comedy|Crime|Documentary|Drama|Fantasy|Film_Noir|Horror|Musical|Mystery|Romance|Sci_Fi|Thriller|War|Western|\n",
      "+--------+-----------------+------------+------------------+--------------------+-------+------+---------+---------+---------+------+-----+-----------+-----+-------+---------+------+-------+-------+-------+------+--------+---+-------+\n",
      "|       1| Toy Story (1995)| 01-Jan-1995|              NULL|http://us.imdb.co...|      0|     0|        0|        1|        1|     1|    0|          0|    0|      0|        0|     0|      0|      0|      0|     0|       0|  0|      0|\n",
      "|       2| GoldenEye (1995)| 01-Jan-1995|              NULL|http://us.imdb.co...|      0|     1|        1|        0|        0|     0|    0|          0|    0|      0|        0|     0|      0|      0|      0|     0|       1|  0|      0|\n",
      "|       3|Four Rooms (1995)| 01-Jan-1995|              NULL|http://us.imdb.co...|      0|     0|        0|        0|        0|     0|    0|          0|    0|      0|        0|     0|      0|      0|      0|     0|       1|  0|      0|\n",
      "|       4|Get Shorty (1995)| 01-Jan-1995|              NULL|http://us.imdb.co...|      0|     1|        0|        0|        0|     1|    0|          0|    1|      0|        0|     0|      0|      0|      0|     0|       0|  0|      0|\n",
      "|       5|   Copycat (1995)| 01-Jan-1995|              NULL|http://us.imdb.co...|      0|     0|        0|        0|        0|     0|    1|          0|    1|      0|        0|     0|      0|      0|      0|     0|       1|  0|      0|\n",
      "+--------+-----------------+------------+------------------+--------------------+-------+------+---------+---------+---------+------+-----+-----------+-----+-------+---------+------+-------+-------+-------+------+--------+---+-------+\n",
      "only showing top 5 rows\n",
      "\n"
     ]
    }
   ],
   "source": [
    "# Добавил заголовки\n",
    "movies_spark = movies_spark.selectExpr(\"_c0 as movie_id\", \"_c1 as movie_title\" , \"_c2 as release_date\",\\\n",
    "                                       \"_c3 as video_release_date\", \"_c4 as IMDb_URL\", \"_c5 as unknown\", \"_c6 as Action\",\\\n",
    "                                       \"_c7 as Adventure\", \"_c8 as Animation\", \"_c9 as Childrens\", \"_c10 as Comedy\",\\\n",
    "                                       \"_c11 as Crime\" , \"_c12 as Documentary\", \"_c13 as Drama\", \"_c14 as Fantasy\",\\\n",
    "                                       \"_c15 as Film_Noir\", \"_c16 as Horror\", \"_c17 as Musical\", \"_c18 as Mystery\",\\\n",
    "                                       \"_c19 as Romance\", \"_c20 as Sci_Fi\", \"_c21 as Thriller\" , \"_c22 as War\",\\\n",
    "                                       \"_c23 as Western\")\n",
    "\n",
    "movies_spark.show(5)"
   ]
  },
  {
   "cell_type": "code",
   "execution_count": 77,
   "id": "2486cd67",
   "metadata": {},
   "outputs": [
    {
     "name": "stdout",
     "output_type": "stream",
     "text": [
      "+-------+-------+------+---------+--------+------------+------------+------------------+--------------------+-------+------+---------+---------+---------+------+-----+-----------+-----+-------+---------+------+-------+-------+-------+------+--------+---+-------+\n",
      "|user_id|item_id|rating|timestamp|movie_id| movie_title|release_date|video_release_date|            IMDb_URL|unknown|Action|Adventure|Animation|Childrens|Comedy|Crime|Documentary|Drama|Fantasy|Film_Noir|Horror|Musical|Mystery|Romance|Sci_Fi|Thriller|War|Western|\n",
      "+-------+-------+------+---------+--------+------------+------------+------------------+--------------------+-------+------+---------+---------+---------+------+-----+-----------+-----+-------+---------+------+-------+-------+-------+------+--------+---+-------+\n",
      "|    196|    242|     3|881250949|     242|Kolya (1996)| 24-Jan-1997|              NULL|http://us.imdb.co...|      0|     0|        0|        0|        0|     1|    0|          0|    0|      0|        0|     0|      0|      0|      0|     0|       0|  0|      0|\n",
      "+-------+-------+------+---------+--------+------------+------------+------------------+--------------------+-------+------+---------+---------+---------+------+-----+-----------+-----+-------+---------+------+-------+-------+-------+------+--------+---+-------+\n",
      "only showing top 1 row\n",
      "\n"
     ]
    }
   ],
   "source": [
    "# Объеденим наши датафреймы c рейтингами и оценками\n",
    "joined = ratings_spark.join(movies_spark, ratings_spark.item_id == movies_spark.movie_id, 'inner')\n",
    "joined.show(1)"
   ]
  },
  {
   "cell_type": "code",
   "execution_count": 78,
   "id": "1f3e8676",
   "metadata": {},
   "outputs": [
    {
     "name": "stdout",
     "output_type": "stream",
     "text": [
      "+------+--------+-------+------+---------+---------+---------+------+-----+-----------+-----+-------+---------+------+-------+-------+-------+------+--------+---+-------+\n",
      "|rating|movie_id|unknown|Action|Adventure|Animation|Childrens|Comedy|Crime|Documentary|Drama|Fantasy|Film_Noir|Horror|Musical|Mystery|Romance|Sci_Fi|Thriller|War|Western|\n",
      "+------+--------+-------+------+---------+---------+---------+------+-----+-----------+-----+-------+---------+------+-------+-------+-------+------+--------+---+-------+\n",
      "|     3|     242|      0|     0|        0|        0|        0|     1|    0|          0|    0|      0|        0|     0|      0|      0|      0|     0|       0|  0|      0|\n",
      "|     3|     302|      0|     0|        0|        0|        0|     0|    1|          0|    0|      0|        1|     0|      0|      1|      0|     0|       1|  0|      0|\n",
      "+------+--------+-------+------+---------+---------+---------+------+-----+-----------+-----+-------+---------+------+-------+-------+-------+------+--------+---+-------+\n",
      "only showing top 2 rows\n",
      "\n"
     ]
    }
   ],
   "source": [
    "# Уберем лишние столбцы.\n",
    "columns_to_drop = ['movie_title', 'release_date', 'video_release_date', 'IMDb_URL', 'user_id', 'item_id', 'timestamp']\n",
    "joined = joined.drop(*columns_to_drop)\n",
    "joined.show(2)"
   ]
  },
  {
   "cell_type": "code",
   "execution_count": 79,
   "id": "d1bdf000",
   "metadata": {},
   "outputs": [
    {
     "data": {
      "text/plain": [
       "['unknown',\n",
       " 'Action',\n",
       " 'Adventure',\n",
       " 'Animation',\n",
       " 'Childrens',\n",
       " 'Comedy',\n",
       " 'Crime',\n",
       " 'Documentary',\n",
       " 'Drama',\n",
       " 'Fantasy',\n",
       " 'Film_Noir',\n",
       " 'Horror',\n",
       " 'Musical',\n",
       " 'Mystery',\n",
       " 'Romance',\n",
       " 'Sci_Fi',\n",
       " 'Thriller',\n",
       " 'War',\n",
       " 'Western']"
      ]
     },
     "execution_count": 79,
     "metadata": {},
     "output_type": "execute_result"
    }
   ],
   "source": [
    "#Словарь жанров\n",
    "genres = joined.columns\n",
    "genres = genres[2:]\n",
    "genres"
   ]
  },
  {
   "cell_type": "code",
   "execution_count": 103,
   "id": "8cc0beeb",
   "metadata": {},
   "outputs": [
    {
     "name": "stdout",
     "output_type": "stream",
     "text": [
      "+-------+-----------+\n",
      "|unknown|avg(rating)|\n",
      "+-------+-----------+\n",
      "|      1|        3.2|\n",
      "+-------+-----------+\n",
      "\n",
      "+------+-----------------+\n",
      "|Action|      avg(rating)|\n",
      "+------+-----------------+\n",
      "|     1|3.480245417953027|\n",
      "+------+-----------------+\n",
      "\n",
      "+---------+-----------------+\n",
      "|Adventure|      avg(rating)|\n",
      "+---------+-----------------+\n",
      "|        1|3.503526503308369|\n",
      "+---------+-----------------+\n",
      "\n",
      "+---------+------------------+\n",
      "|Animation|       avg(rating)|\n",
      "+---------+------------------+\n",
      "|        1|3.5766990291262135|\n",
      "+---------+------------------+\n",
      "\n",
      "+---------+------------------+\n",
      "|Childrens|       avg(rating)|\n",
      "+---------+------------------+\n",
      "|        1|3.3532442216652742|\n",
      "+---------+------------------+\n",
      "\n",
      "+------+------------------+\n",
      "|Comedy|       avg(rating)|\n",
      "+------+------------------+\n",
      "|     1|3.3940734781442745|\n",
      "+------+------------------+\n",
      "\n",
      "+-----+------------------+\n",
      "|Crime|       avg(rating)|\n",
      "+-----+------------------+\n",
      "|    1|3.6322780881440098|\n",
      "+-----+------------------+\n",
      "\n",
      "+-----------+------------------+\n",
      "|Documentary|       avg(rating)|\n",
      "+-----------+------------------+\n",
      "|          1|3.6728232189973613|\n",
      "+-----------+------------------+\n",
      "\n",
      "+-----+------------------+\n",
      "|Drama|       avg(rating)|\n",
      "+-----+------------------+\n",
      "|    1|3.6873793708484772|\n",
      "+-----+------------------+\n",
      "\n",
      "+-------+------------------+\n",
      "|Fantasy|       avg(rating)|\n",
      "+-------+------------------+\n",
      "|      1|3.2152366863905324|\n",
      "+-------+------------------+\n",
      "\n",
      "+---------+------------------+\n",
      "|Film_Noir|       avg(rating)|\n",
      "+---------+------------------+\n",
      "|        1|3.9215233698788228|\n",
      "+---------+------------------+\n",
      "\n",
      "+------+------------------+\n",
      "|Horror|       avg(rating)|\n",
      "+------+------------------+\n",
      "|     1|3.2903893172841827|\n",
      "+------+------------------+\n",
      "\n",
      "+-------+-----------------+\n",
      "|Musical|      avg(rating)|\n",
      "+-------+-----------------+\n",
      "|      1|3.521396851029471|\n",
      "+-------+-----------------+\n",
      "\n",
      "+-------+----------------+\n",
      "|Mystery|     avg(rating)|\n",
      "+-------+----------------+\n",
      "|      1|3.63813155386082|\n",
      "+-------+----------------+\n",
      "\n",
      "+-------+-----------------+\n",
      "|Romance|      avg(rating)|\n",
      "+-------+-----------------+\n",
      "|      1|3.621704948358255|\n",
      "+-------+-----------------+\n",
      "\n",
      "+------+------------------+\n",
      "|Sci_Fi|       avg(rating)|\n",
      "+------+------------------+\n",
      "|     1|3.5607227022780834|\n",
      "+------+------------------+\n",
      "\n",
      "+--------+------------------+\n",
      "|Thriller|       avg(rating)|\n",
      "+--------+------------------+\n",
      "|       1|3.5090069495245064|\n",
      "+--------+------------------+\n",
      "\n",
      "+---+-----------------+\n",
      "|War|      avg(rating)|\n",
      "+---+-----------------+\n",
      "|  1|3.815811874866993|\n",
      "+---+-----------------+\n",
      "\n",
      "+-------+------------------+\n",
      "|Western|       avg(rating)|\n",
      "+-------+------------------+\n",
      "|      1|3.6132686084142396|\n",
      "+-------+------------------+\n",
      "\n"
     ]
    }
   ],
   "source": [
    "# Через цикл прогоняем по каждому жанру из нашего списка, по условию жанра и группируя по жанру считаем средний рейтинг.\n",
    "\n",
    "for genre in genres:\n",
    "    df_filter = joined.where(joined[genre] == 1)\n",
    "    avg_rate = df_filter.groupby(genre).avg('rating')\n",
    "    avg_rate.show()"
   ]
  },
  {
   "cell_type": "markdown",
   "id": "6c58da40",
   "metadata": {},
   "source": [
    "## 11. В спарке получить 2 датафрейма с 5-ю самыми популярными и самыми непопулярными фильмами (по количеству оценок, либо по самой оценке - на Ваш выбор)"
   ]
  },
  {
   "cell_type": "code",
   "execution_count": 27,
   "id": "cd3229fb",
   "metadata": {},
   "outputs": [
    {
     "name": "stdout",
     "output_type": "stream",
     "text": [
      "+-------+-----------+\n",
      "|item_id|sum(rating)|\n",
      "+-------+-----------+\n",
      "|     50|       2541|\n",
      "|    100|       2111|\n",
      "|    181|       2032|\n",
      "|    258|       1936|\n",
      "|    174|       1786|\n",
      "+-------+-----------+\n",
      "only showing top 5 rows\n",
      "\n"
     ]
    }
   ],
   "source": [
    "# Топ-5 фильмов по сумме оценок\n",
    "# Взяли датафрейм, сгруппировали по фильмам, посчитали сумму рейтнигов по фильмам, \n",
    "# отсортировали по этой сумме в порядке убывания и вывели топ 5.\n",
    "\n",
    "ratings_spark.groupby('item_id').sum('rating').sort('sum(rating)', ascending=False).show(5)"
   ]
  },
  {
   "cell_type": "code",
   "execution_count": 28,
   "id": "a61da8d0",
   "metadata": {},
   "outputs": [
    {
     "name": "stdout",
     "output_type": "stream",
     "text": [
      "+-------+-----+\n",
      "|item_id|count|\n",
      "+-------+-----+\n",
      "|     50|  583|\n",
      "|    258|  509|\n",
      "|    100|  508|\n",
      "|    181|  507|\n",
      "|    294|  485|\n",
      "+-------+-----+\n",
      "only showing top 5 rows\n",
      "\n"
     ]
    }
   ],
   "source": [
    "# Топ-5 фильмов по количеству оценок\n",
    "# Взяли датафрейм, сгруппировали по фильмам, посчитали количество проставленных оценок по фильмам, \n",
    "# отсортировали по вычисленной переменной в порядке убывания и вывели топ 5.\n",
    "\n",
    "ratings_spark.groupby('item_id').count().sort('count', ascending=False).show(5)"
   ]
  },
  {
   "cell_type": "code",
   "execution_count": 29,
   "id": "9ef9a5e5",
   "metadata": {},
   "outputs": [
    {
     "name": "stdout",
     "output_type": "stream",
     "text": [
      "+-------+-----------+\n",
      "|item_id|sum(rating)|\n",
      "+-------+-----------+\n",
      "|    830|          1|\n",
      "|   1339|          1|\n",
      "|   1493|          1|\n",
      "|   1621|          1|\n",
      "|   1618|          1|\n",
      "+-------+-----------+\n",
      "only showing top 5 rows\n",
      "\n"
     ]
    }
   ],
   "source": [
    "# Аналогичная сумма для худших 5 фильмов. Просто меняем порядок сортировки.\n",
    "ratings_spark.groupby('item_id').sum('rating').sort('sum(rating)', ascending=True).show(5)"
   ]
  },
  {
   "cell_type": "code",
   "execution_count": 30,
   "id": "41c74384",
   "metadata": {},
   "outputs": [
    {
     "name": "stdout",
     "output_type": "stream",
     "text": [
      "+-------+-----+\n",
      "|item_id|count|\n",
      "+-------+-----+\n",
      "|   1460|    1|\n",
      "|   1618|    1|\n",
      "|   1339|    1|\n",
      "|   1645|    1|\n",
      "|   1650|    1|\n",
      "+-------+-----+\n",
      "only showing top 5 rows\n",
      "\n"
     ]
    }
   ],
   "source": [
    "# Аналогичное количество оценок для худших 5 фильмов. Просто меняем порядок сортировки.\n",
    "ratings_spark.groupby('item_id').count().sort('count', ascending=True).show(5)"
   ]
  }
 ],
 "metadata": {
  "kernelspec": {
   "display_name": "Python 3 (ipykernel)",
   "language": "python",
   "name": "python3"
  },
  "language_info": {
   "codemirror_mode": {
    "name": "ipython",
    "version": 3
   },
   "file_extension": ".py",
   "mimetype": "text/x-python",
   "name": "python",
   "nbconvert_exporter": "python",
   "pygments_lexer": "ipython3",
   "version": "3.9.7"
  }
 },
 "nbformat": 4,
 "nbformat_minor": 5
}
